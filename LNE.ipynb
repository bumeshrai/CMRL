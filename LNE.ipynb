{
 "cells": [
  {
   "cell_type": "code",
   "execution_count": 1,
   "metadata": {},
   "outputs": [
    {
     "name": "stdout",
     "output_type": "stream",
     "text": [
      "1.53\n"
     ]
    }
   ],
   "source": [
    "Escalator_cost = 78\n",
    "Lift_cost = 51\n",
    "EL_ratio = 78/51\n",
    "print(round(EL_ratio,2))"
   ]
  },
  {
   "cell_type": "code",
   "execution_count": 2,
   "metadata": {},
   "outputs": [
    {
     "name": "stdout",
     "output_type": "stream",
     "text": [
      "79.77\n"
     ]
    }
   ],
   "source": [
    "Contract_cost = 197.6 * 100\n",
    "Escalators_total = 296\n",
    "Lift_total = 122\n",
    "Lift_in_Escalator_unit = 122 / EL_ratio\n",
    "print(round(Lift_in_Escalator_unit,2))"
   ]
  },
  {
   "cell_type": "code",
   "execution_count": 3,
   "metadata": {},
   "outputs": [],
   "source": [
    "Total_nos_escalator = Escalators_total + Lift_in_Escalator_unit\n",
    "Escalator_cost_contract = Contract_cost / Total_nos_escalator"
   ]
  },
  {
   "cell_type": "code",
   "execution_count": 4,
   "metadata": {
    "scrolled": true
   },
   "outputs": [
    {
     "name": "stdout",
     "output_type": "stream",
     "text": [
      "52.59\n",
      "34.38\n"
     ]
    }
   ],
   "source": [
    "Lift_cost_contract = Escalator_cost_contract / EL_ratio\n",
    "print(round(Escalator_cost_contract,2))\n",
    "print(round(Lift_cost_contract,2))"
   ]
  },
  {
   "cell_type": "code",
   "execution_count": 5,
   "metadata": {},
   "outputs": [
    {
     "name": "stdout",
     "output_type": "stream",
     "text": [
      "LE cost for elevated - 4.38cr\n"
     ]
    }
   ],
   "source": [
    "Lift_elevated = 4\n",
    "Escalator_elevated = 3\n",
    "Cost_elevated = Escalator_cost * Escalator_elevated + Lift_cost * Lift_elevated\n",
    "print('LE cost for elevated - {}cr'.format(Cost_elevated/100))"
   ]
  },
  {
   "cell_type": "code",
   "execution_count": 6,
   "metadata": {},
   "outputs": [
    {
     "name": "stdout",
     "output_type": "stream",
     "text": [
      "LE cost for ug - 5.43cr\n"
     ]
    }
   ],
   "source": [
    "Lift_ug = 3\n",
    "Escalator_ug = 5\n",
    "Cost_ug = Escalator_cost * Escalator_ug + Lift_cost * Lift_ug\n",
    "print('LE cost for ug - {}cr'.format(Cost_ug/100))"
   ]
  }
 ],
 "metadata": {
  "kernelspec": {
   "display_name": "Python 3",
   "language": "python",
   "name": "python3"
  },
  "language_info": {
   "codemirror_mode": {
    "name": "ipython",
    "version": 3
   },
   "file_extension": ".py",
   "mimetype": "text/x-python",
   "name": "python",
   "nbconvert_exporter": "python",
   "pygments_lexer": "ipython3",
   "version": "3.6.7"
  }
 },
 "nbformat": 4,
 "nbformat_minor": 2
}

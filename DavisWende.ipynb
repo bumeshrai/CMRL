{
 "cells": [
  {
   "cell_type": "code",
   "execution_count": 1,
   "metadata": {},
   "outputs": [],
   "source": [
    "import numpy as np\n",
    "from matplotlib import pyplot as plt "
   ]
  },
  {
   "cell_type": "markdown",
   "metadata": {},
   "source": [
    "Original formula given by M/s Alsthom"
   ]
  },
  {
   "cell_type": "code",
   "execution_count": 2,
   "metadata": {},
   "outputs": [],
   "source": [
    "a_alt = 3689.3\n",
    "b_alt = 35.204\n",
    "c_alt = 0.655"
   ]
  },
  {
   "cell_type": "markdown",
   "metadata": {},
   "source": [
    "Change to meter/sec"
   ]
  },
  {
   "cell_type": "code",
   "execution_count": 3,
   "metadata": {},
   "outputs": [],
   "source": [
    "a_sim_4 = 3689.3 \n",
    "b_sim_4 = 35.204 * 3.6\n",
    "c_sim_4 = 0.655 * 3.6 * 3.6"
   ]
  },
  {
   "cell_type": "markdown",
   "metadata": {},
   "source": [
    "Siemens algorithm for changing from 4 car to 6 car"
   ]
  },
  {
   "cell_type": "code",
   "execution_count": 4,
   "metadata": {},
   "outputs": [],
   "source": [
    "a_sim_6 = a_sim_4 * 6 / 4\n",
    "b_sim_6 = b_sim_4 * 6 / 4\n",
    "c_sim_6 = c_sim_4 * 6 / 4"
   ]
  },
  {
   "cell_type": "markdown",
   "metadata": {},
   "source": [
    "Display the coefficients"
   ]
  },
  {
   "cell_type": "code",
   "execution_count": 5,
   "metadata": {},
   "outputs": [
    {
     "name": "stdout",
     "output_type": "stream",
     "text": [
      "Siemens Davis Coefficient for 4 cars: a = 3689.3, b = 126.73, c = 8.49\n",
      "Siemens Davis Coefficient for 6 cars: a = 5533.95, b = 190.1, c = 12.73\n"
     ]
    }
   ],
   "source": [
    "print('Siemens Davis Coefficient for 4 cars: a = {}, b = {}, c = {}'.format(round(a_sim_4,2), \\\n",
    "                                                                      round(b_sim_4,2), round(c_sim_4,2)))\n",
    "print('Siemens Davis Coefficient for 6 cars: a = {}, b = {}, c = {}'.format(round(a_sim_6,2), \\\n",
    "                                                                      round(b_sim_6,2), round(c_sim_6,2)))"
   ]
  },
  {
   "cell_type": "markdown",
   "metadata": {},
   "source": [
    "Get the x-axis matrix i.e speed from 1 to 80 km/h\n",
    "Similar matrix for m/sec"
   ]
  },
  {
   "cell_type": "code",
   "execution_count": 6,
   "metadata": {},
   "outputs": [],
   "source": [
    "v = np.arange(1,80,dtype=float)\n",
    "v_m_s = np.arange(1,80,dtype=float) * 1000/3600\n",
    "#print(v) \n",
    "#print(v_m_s) "
   ]
  },
  {
   "cell_type": "markdown",
   "metadata": {},
   "source": [
    "Get the y-axis matrix for both km/h and m/s"
   ]
  },
  {
   "cell_type": "code",
   "execution_count": 7,
   "metadata": {},
   "outputs": [],
   "source": [
    "f_train_alt = a_alt + b_alt*v + c_alt*v**2\n",
    "f_train_sim_4 = a_sim_4 + b_sim_4*v_m_s + c_sim_4*v_m_s**2\n",
    "f_train_sim_6 = a_sim_6 + b_sim_6*v_m_s + c_sim_6*v_m_s**2"
   ]
  },
  {
   "cell_type": "markdown",
   "metadata": {},
   "source": [
    "Plot the 2 graph "
   ]
  },
  {
   "cell_type": "code",
   "execution_count": 8,
   "metadata": {},
   "outputs": [
    {
     "data": {
      "text/plain": [
       "<matplotlib.legend.Legend at 0x7f32b0cf0cc0>"
      ]
     },
     "execution_count": 8,
     "metadata": {},
     "output_type": "execute_result"
    },
    {
     "data": {
      "image/png": "[encoded data removed]",
      "text/plain": [
       "<Figure size 432x288 with 1 Axes>"
      ]
     },
     "metadata": {
      "needs_background": "light"
     },
     "output_type": "display_data"
    }
   ],
   "source": [
    "plt.plot(f_train_alt,label = 'Alsthom (km/h) 4 cars')\n",
    "plt.plot(f_train_sim_4,label = 'Siemens (m/s) 4 cars')\n",
    "plt.plot(f_train_sim_6,label = 'Siemens (m/s) 6 cars')\n",
    "plt.legend()"
   ]
  },
  {
   "cell_type": "markdown",
   "metadata": {},
   "source": [
    "Siemens used values of coefficient"
   ]
  },
  {
   "cell_type": "code",
   "execution_count": 9,
   "metadata": {},
   "outputs": [],
   "source": [
    "a_sim = 5534\n",
    "b_sim = 190.1\n",
    "c_sim = 12.7 "
   ]
  },
  {
   "cell_type": "markdown",
   "metadata": {},
   "source": [
    "Alsthom revised formula coefficients"
   ]
  },
  {
   "cell_type": "code",
   "execution_count": 10,
   "metadata": {},
   "outputs": [],
   "source": [
    "Car_no = 6\n",
    "Car_mass = 57\n",
    "Axels_no = 4 * Car_no\n",
    "a_revised = 6.4 * Car_mass * Car_no + 130 * Axels_no \n",
    "b_revised = 0.14 * Car_mass * Car_no\n",
    "c_revised = (0.046 + 0.0065 * (Car_no - 1)) * 10"
   ]
  },
  {
   "cell_type": "code",
   "execution_count": 11,
   "metadata": {},
   "outputs": [
    {
     "name": "stdout",
     "output_type": "stream",
     "text": [
      "a = 5308.8, b = 47.88, c = 0.785\n"
     ]
    }
   ],
   "source": [
    "print('a = {}, b = {}, c = {}'.format(a_revised, b_revised, c_revised))"
   ]
  },
  {
   "cell_type": "code",
   "execution_count": 12,
   "metadata": {},
   "outputs": [],
   "source": [
    "#print(v) "
   ]
  },
  {
   "cell_type": "code",
   "execution_count": 13,
   "metadata": {},
   "outputs": [],
   "source": [
    "f_train_sim = a_sim + b_sim*v_m_s + c_sim*v_m_s**2\n",
    "f_revised = a_revised + b_revised*v + c_revised*v**2"
   ]
  },
  {
   "cell_type": "code",
   "execution_count": 14,
   "metadata": {},
   "outputs": [],
   "source": [
    "#print(f_train)"
   ]
  },
  {
   "cell_type": "markdown",
   "metadata": {},
   "source": [
    "Plot all three equations"
   ]
  },
  {
   "cell_type": "code",
   "execution_count": 15,
   "metadata": {},
   "outputs": [
    {
     "data": {
      "text/plain": [
       "<matplotlib.legend.Legend at 0x7f32b0c3ccf8>"
      ]
     },
     "execution_count": 15,
     "metadata": {},
     "output_type": "execute_result"
    },
    {
     "data": {
      "image/png": "[encoded data removed]",
      "text/plain": [
       "<Figure size 432x288 with 1 Axes>"
      ]
     },
     "metadata": {
      "needs_background": "light"
     },
     "output_type": "display_data"
    }
   ],
   "source": [
    "plt.plot(f_train_alt,label = 'Alsthom (4 cars)')\n",
    "plt.plot(f_train_sim_6, label = 'Siemens (6 cars)')\n",
    "plt.plot(f_revised, label = 'Alsthom Wende (6 cars)')\n",
    "plt.xlabel(\"Speed in Km/h\")\n",
    "plt.ylabel(\"Train Resistance in N\")\n",
    "plt.title(\"Davis formula (CMRL Train)\")\n",
    "plt.legend()"
   ]
  }
 ],
 "metadata": {
  "kernelspec": {
   "display_name": "Python 3",
   "language": "python",
   "name": "python3"
  },
  "language_info": {
   "codemirror_mode": {
    "name": "ipython",
    "version": 3
   },
   "file_extension": ".py",
   "mimetype": "text/x-python",
   "name": "python",
   "nbconvert_exporter": "python",
   "pygments_lexer": "ipython3",
   "version": "3.6.7"
  }
 },
 "nbformat": 4,
 "nbformat_minor": 2
}

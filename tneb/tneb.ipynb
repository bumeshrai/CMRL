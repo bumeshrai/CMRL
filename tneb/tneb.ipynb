{
 "cells": [
  {
   "cell_type": "code",
   "execution_count": 1,
   "metadata": {},
   "outputs": [
    {
     "data": {
      "text/plain": [
       "[590000.0, 472000.0, 354000, 0.6]"
      ]
     },
     "execution_count": 1,
     "metadata": {},
     "output_type": "execute_result"
    }
   ],
   "source": [
    "kwh = 354000\n",
    "pf = 0.60\n",
    "kvah = kwh/pf\n",
    "kvarh = (kvah**2 - kwh**2)**0.5\n",
    "pfCalc = kwh/(kvarh**2 + kwh**2)**0.5\n",
    "[kvah,kvarh,kwh,pfCalc]"
   ]
  },
  {
   "cell_type": "code",
   "execution_count": 2,
   "metadata": {},
   "outputs": [
    {
     "name": "stdout",
     "output_type": "stream",
     "text": [
      "KWH: 354000\n",
      "KVAH: 590000.0\n",
      "KVARH: 472000.0\n",
      "PF: 0.6\n",
      "Angle: 53.13010235415598\n"
     ]
    }
   ],
   "source": [
    "import math\n",
    "\n",
    "kwh = 354000\n",
    "pf = 0.60\n",
    "ang = math.acos(pf)\n",
    "kvarh = kvah * math.sin(ang)\n",
    "print('KWH: '+str(kwh)+'\\n'+'KVAH: '+str(kvah)+'\\n' \\\n",
    "      +'KVARH: '+str(kvarh)+'\\n'+ 'PF: '+str(pf)+'\\n'+'Angle: '+str(ang*180/math.pi))"
   ]
  },
  {
   "cell_type": "code",
   "execution_count": 3,
   "metadata": {},
   "outputs": [],
   "source": [
    "import matplotlib.pyplot as plt\n",
    "import pandas as pd\n",
    "import datetime as dt\n",
    "import matplotlib.dates as mdates\n",
    "import math\n",
    "import numpy as np\n",
    "\n",
    "dfk = pd.read_csv('tnebBillKrss.csv')\n",
    "dfa = pd.read_csv('tnebBillArss.csv')\n",
    "\n",
    "dfk.columns = ['Month', 'Year', 'KWH', 'KVAH', 'PF', 'MD', 'Billed', 'Paid', 'PF_penalty', \n",
    "               'Harmonics_penalty', 'MD_penalty']\n",
    "dfa.columns = ['Month', 'Year', 'KWH', 'KVAH', 'PF', 'MD', 'Billed', 'Paid', 'PF_penalty', \n",
    "               'Harmonics_penalty', 'MD_penalty']"
   ]
  },
  {
   "cell_type": "code",
   "execution_count": 4,
   "metadata": {},
   "outputs": [
    {
     "name": "stdout",
     "output_type": "stream",
     "text": [
      "AT KRSS: \n",
      "PF Penalty: 53,277,425\n",
      "Harmonics Penalty: 27,535,350\n",
      "MD Penalty: 13,033,435\n",
      "\n",
      "AT ARSS: \n",
      "PF Penalty: 37,591,125\n",
      "Harmonics Penalty: 221,127\n",
      "MD Penalty: 6,440,000\n",
      "\n",
      "Total: \n",
      "PF Penalty: 90,868,550\n",
      "Harmonics Penalty: 27,756,477\n",
      "MD Penalty: 19,473,435\n",
      "Total Penalty: 138,098,462\n"
     ]
    }
   ],
   "source": [
    "print('AT KRSS: '+'\\n' + \n",
    "      'PF Penalty: '+format(int(dfk['PF_penalty'].sum()), ',d')+'\\n'+\n",
    "      'Harmonics Penalty: '+format(dfk['Harmonics_penalty'].sum(), ',d')+'\\n'+\n",
    "      'MD Penalty: '+format(dfk['MD_penalty'].sum(), ',d') +'\\n' )\n",
    "print('AT ARSS: '+'\\n' + \n",
    "      'PF Penalty: '+format(int(dfa['PF_penalty'].sum()), ',d')+'\\n'+\n",
    "      'Harmonics Penalty: '+format(dfa['Harmonics_penalty'].sum(), ',d')+'\\n'+\n",
    "      'MD Penalty: '+format(dfa['MD_penalty'].sum(), ',d') +'\\n' )\n",
    "print('Total: '+'\\n' + \n",
    "      'PF Penalty: '+format(int(dfk['PF_penalty'].sum()+dfa['PF_penalty'].sum()), ',d')+'\\n'+\n",
    "      'Harmonics Penalty: '+format(dfk['Harmonics_penalty'].sum()+dfa['Harmonics_penalty'].sum(), ',d')+'\\n'+\n",
    "      'MD Penalty: '+format(dfk['MD_penalty'].sum()+dfa['MD_penalty'].sum(), ',d')+'\\n'+\n",
    "     'Total Penalty: '+format(int(dfk['PF_penalty'].sum())+int(dfa['PF_penalty'].sum())+\n",
    "                          dfk['Harmonics_penalty'].sum()+dfa['Harmonics_penalty'].sum()+\n",
    "                          dfk['MD_penalty'].sum()+dfa['MD_penalty'].sum(), ',d'))"
   ]
  },
  {
   "cell_type": "code",
   "execution_count": 5,
   "metadata": {},
   "outputs": [
    {
     "name": "stdout",
     "output_type": "stream",
     "text": [
      "TNEB Billing: \n",
      "KRSS total billed: 637,350,154\n",
      "ARSS total billed: 463,373,327\n",
      "Total billed till date: 1,100,723,481\n",
      "\n",
      "CMRL payment as per TNERC ruling: \n",
      "KRSS total Paid: 547,788,581\n",
      "ARSS total Paid: 364,526,366\n",
      "Total paid till date: 912,314,947\n"
     ]
    }
   ],
   "source": [
    "print('TNEB Billing: '+'\\n' +\n",
    "      'KRSS total billed: '+format(int(dfk['Billed'].sum()), ',d')+'\\n'+\n",
    "     'ARSS total billed: '+format(int(dfa['Billed'].sum()), ',d')+'\\n'+\n",
    "     'Total billed till date: '+format(int(dfk['Billed'].sum())+int(dfa['Billed'].sum()), ',d') +'\\n' )\n",
    "print('CMRL payment as per TNERC ruling: '+'\\n' +\n",
    "      'KRSS total Paid: '+format(int(dfk['Paid'].sum()), ',d')+'\\n'+\n",
    "     'ARSS total Paid: '+format(int(dfa['Paid'].sum()), ',d')+'\\n'+\n",
    "     'Total paid till date: '+format(int(dfk['Paid'].sum())+int(dfa['Paid'].sum()), ',d'))"
   ]
  },
  {
   "cell_type": "code",
   "execution_count": 6,
   "metadata": {},
   "outputs": [
    {
     "data": {
      "image/png": "[encoded data removed]",
      "text/plain": [
       "<Figure size 432x288 with 1 Axes>"
      ]
     },
     "metadata": {},
     "output_type": "display_data"
    }
   ],
   "source": [
    "labels = 'usage bill', 'penalty'\n",
    "bill = [int(dfk['Paid'].sum())+int(dfa['Paid'].sum()), int(dfk['PF_penalty'].sum()+dfa['PF_penalty'].sum())+\n",
    "                          dfk['Harmonics_penalty'].sum()+dfa['Harmonics_penalty'].sum()+\n",
    "                          dfk['MD_penalty'].sum()+dfa['MD_penalty'].sum()]\n",
    "colors = ['gold', 'yellowgreen']\n",
    "explode = (0, 0.1)\n",
    "plt.pie(bill, explode=explode, labels=labels, colors=colors, autopct='%1.1f%%', shadow=True, startangle=140)\n",
    "plt.axis('equal')\n",
    "plt.show()"
   ]
  },
  {
   "cell_type": "code",
   "execution_count": 7,
   "metadata": {},
   "outputs": [
    {
     "data": {
      "image/png": "[encoded data removed]",
      "text/plain": [
       "<Figure size 432x288 with 1 Axes>"
      ]
     },
     "metadata": {},
     "output_type": "display_data"
    }
   ],
   "source": [
    "labels = 'PF', 'Harmonics', 'MD'\n",
    "bill = [int(dfk['PF_penalty'].sum()+dfa['PF_penalty'].sum()),\n",
    "        int(dfk['Harmonics_penalty'].sum()+dfa['Harmonics_penalty'].sum()),\n",
    "        int(dfk['MD_penalty'].sum()+dfa['MD_penalty'].sum())]\n",
    "colors = ['gold', 'yellowgreen','lightcoral']\n",
    "explode = (0, 0.1, 0)\n",
    "plt.pie(bill, explode=explode, labels=labels, colors=colors, autopct='%1.1f%%', shadow=True, startangle=140)\n",
    "plt.axis('equal')\n",
    "plt.show()"
   ]
  },
  {
   "cell_type": "code",
   "execution_count": 8,
   "metadata": {},
   "outputs": [],
   "source": [
    "# Split into different stages of commissioning\n",
    "bk1=dfk[(dfk['Year'] == 2013) | (dfk['Year'] == 2014) \\\n",
    "        | ((dfk['Year'] == 2015) & (dfk['Month'] < 7))]  [['Billed', 'Paid']] #Stage 1\n",
    "bk2=dfk[((dfk['Year'] == 2015) & (dfk['Month'] > 6)) \\\n",
    "        | ((dfk['Year'] == 2016) & (dfk['Month'] < 9))]  [['Billed', 'Paid']] #Stage 1A\n",
    "bk3=dfk[((dfk['Year'] == 2016) & (dfk['Month'] > 8)) \\\n",
    "        | ((dfk['Year'] == 2017) & (dfk['Month'] < 5))]  [['Billed', 'Paid']] #Stage 2A\n",
    "bk4=dfk[((dfk['Year'] == 2017) & (dfk['Month'] > 4)) \\\n",
    "        | ((dfk['Year'] == 2018) & (dfk['Month'] < 5))]  [['Billed', 'Paid']] #Stage 2B\n",
    "bk5=dfk[((dfk['Year'] == 2018) & (dfk['Month'] > 4)) ]  [['Billed', 'Paid']] \n",
    "ba1=dfa[(dfa['Year'] == 2013) | (dfa['Year'] == 2014) \\\n",
    "        | ((dfa['Year'] == 2015) & (dfa['Month'] < 7))]  [['Billed', 'Paid']] #Stage 1\n",
    "ba2=dfa[((dfa['Year'] == 2015) & (dfa['Month'] > 6)) \\\n",
    "        | ((dfa['Year'] == 2016) & (dfa['Month'] < 9))]  [['Billed', 'Paid']] #Stage 1A\n",
    "ba3=dfa[((dfa['Year'] == 2016) & (dfa['Month'] > 8)) \\\n",
    "        | ((dfa['Year'] == 2017) & (dfa['Month'] < 5))]  [['Billed', 'Paid']] #Stage 2A\n",
    "ba4=dfa[((dfa['Year'] == 2017) & (dfa['Month'] > 4)) \\\n",
    "        | ((dfa['Year'] == 2018) & (dfa['Month'] < 5))]  [['Billed', 'Paid']] #Stage 2B\n",
    "ba5=dfa[((dfa['Year'] == 2018) & (dfa['Month'] > 4)) ]  [['Billed', 'Paid']] \n",
    "\n",
    "# Take the mean values for different stages. Populate list with mean values\n",
    "avg_bill_paid = []\n",
    "firstMean = (bk1['Paid'].mean() + ba1['Paid'].mean())//1\n",
    "for i in bk1['Paid']:\n",
    "    avg_bill_paid.append((bk1['Paid'].mean() + ba1['Paid'].mean())//1)\n",
    "for i in bk2['Paid']:\n",
    "    avg_bill_paid.append((bk2['Paid'].mean() + ba2['Paid'].mean())//1)\n",
    "for i in bk3['Paid']:\n",
    "    avg_bill_paid.append((bk3['Paid'].mean() + ba3['Paid'].mean())//1)\n",
    "for i in bk4['Paid']:\n",
    "    avg_bill_paid.append((bk4['Paid'].mean() + ba4['Paid'].mean())//1)\n",
    "for i in bk5['Paid']:\n",
    "    avg_bill_paid.append((bk5['Paid'].mean() + ba5['Paid'].mean())//1)"
   ]
  },
  {
   "cell_type": "code",
   "execution_count": 9,
   "metadata": {},
   "outputs": [
    {
     "ename": "ValueError",
     "evalue": "x and y must have same first dimension, but have shapes (68,) and (59,)",
     "output_type": "error",
     "traceback": [
      "\u001b[0;31m---------------------------------------------------------------------------\u001b[0m",
      "\u001b[0;31mValueError\u001b[0m                                Traceback (most recent call last)",
      "\u001b[0;32m<ipython-input-9-27352d7bd392>\u001b[0m in \u001b[0;36m<module>\u001b[0;34m()\u001b[0m\n\u001b[1;32m      9\u001b[0m \u001b[0;34m\u001b[0m\u001b[0m\n\u001b[1;32m     10\u001b[0m \u001b[0mfig\u001b[0m\u001b[0;34m,\u001b[0m \u001b[0max\u001b[0m \u001b[0;34m=\u001b[0m \u001b[0mplt\u001b[0m\u001b[0;34m.\u001b[0m\u001b[0msubplots\u001b[0m\u001b[0;34m(\u001b[0m\u001b[0mfigsize\u001b[0m\u001b[0;34m=\u001b[0m\u001b[0;34m(\u001b[0m\u001b[0;36m16\u001b[0m\u001b[0;34m,\u001b[0m\u001b[0;36m10\u001b[0m\u001b[0;34m)\u001b[0m\u001b[0;34m)\u001b[0m \u001b[0;31m# Plot size\u001b[0m\u001b[0;34m\u001b[0m\u001b[0;34m\u001b[0m\u001b[0m\n\u001b[0;32m---> 11\u001b[0;31m \u001b[0max\u001b[0m\u001b[0;34m.\u001b[0m\u001b[0mplot\u001b[0m\u001b[0;34m(\u001b[0m\u001b[0mx\u001b[0m\u001b[0;34m[\u001b[0m\u001b[0;34m:\u001b[0m\u001b[0;34m-\u001b[0m\u001b[0;36m1\u001b[0m\u001b[0;34m]\u001b[0m\u001b[0;34m,\u001b[0m\u001b[0myb\u001b[0m\u001b[0;34m,\u001b[0m \u001b[0mlinewidth\u001b[0m\u001b[0;34m=\u001b[0m\u001b[0;36m1.00\u001b[0m\u001b[0;34m,\u001b[0m \u001b[0mlabel\u001b[0m\u001b[0;34m=\u001b[0m\u001b[0;34m\"Billed by TNEB\"\u001b[0m\u001b[0;34m)\u001b[0m \u001b[0;31m# Plot for TNEB Bills\u001b[0m\u001b[0;34m\u001b[0m\u001b[0;34m\u001b[0m\u001b[0m\n\u001b[0m\u001b[1;32m     12\u001b[0m \u001b[0max\u001b[0m\u001b[0;34m.\u001b[0m\u001b[0mplot\u001b[0m\u001b[0;34m(\u001b[0m\u001b[0mx\u001b[0m\u001b[0;34m[\u001b[0m\u001b[0;34m:\u001b[0m\u001b[0;34m-\u001b[0m\u001b[0;36m1\u001b[0m\u001b[0;34m]\u001b[0m\u001b[0;34m,\u001b[0m\u001b[0myp\u001b[0m\u001b[0;34m,\u001b[0m \u001b[0mlinewidth\u001b[0m\u001b[0;34m=\u001b[0m\u001b[0;36m2.00\u001b[0m\u001b[0;34m,\u001b[0m \u001b[0mlabel\u001b[0m\u001b[0;34m=\u001b[0m\u001b[0;34m\"Paid by CMRL\"\u001b[0m\u001b[0;34m)\u001b[0m \u001b[0;31m# Plot for actual payments\u001b[0m\u001b[0;34m\u001b[0m\u001b[0;34m\u001b[0m\u001b[0m\n\u001b[1;32m     13\u001b[0m \u001b[0max\u001b[0m\u001b[0;34m.\u001b[0m\u001b[0mplot\u001b[0m\u001b[0;34m(\u001b[0m\u001b[0mx\u001b[0m\u001b[0;34m[\u001b[0m\u001b[0;34m:\u001b[0m\u001b[0;34m-\u001b[0m\u001b[0;36m1\u001b[0m\u001b[0;34m]\u001b[0m\u001b[0;34m,\u001b[0m\u001b[0mavg_bill_paid\u001b[0m\u001b[0;34m,\u001b[0m \u001b[0mlinewidth\u001b[0m\u001b[0;34m=\u001b[0m\u001b[0;36m3.00\u001b[0m\u001b[0;34m,\u001b[0m \u001b[0mlabel\u001b[0m\u001b[0;34m=\u001b[0m\u001b[0;34m\"\"\u001b[0m\u001b[0;34m)\u001b[0m \u001b[0;31m# Plot for mean value steps representing different stages\u001b[0m\u001b[0;34m\u001b[0m\u001b[0;34m\u001b[0m\u001b[0m\n",
      "\u001b[0;32m~/.local/lib/python3.6/site-packages/matplotlib/__init__.py\u001b[0m in \u001b[0;36minner\u001b[0;34m(ax, data, *args, **kwargs)\u001b[0m\n\u001b[1;32m   1808\u001b[0m                         \u001b[0;34m\"the Matplotlib list!)\"\u001b[0m \u001b[0;34m%\u001b[0m \u001b[0;34m(\u001b[0m\u001b[0mlabel_namer\u001b[0m\u001b[0;34m,\u001b[0m \u001b[0mfunc\u001b[0m\u001b[0;34m.\u001b[0m\u001b[0m__name__\u001b[0m\u001b[0;34m)\u001b[0m\u001b[0;34m,\u001b[0m\u001b[0;34m\u001b[0m\u001b[0;34m\u001b[0m\u001b[0m\n\u001b[1;32m   1809\u001b[0m                         RuntimeWarning, stacklevel=2)\n\u001b[0;32m-> 1810\u001b[0;31m             \u001b[0;32mreturn\u001b[0m \u001b[0mfunc\u001b[0m\u001b[0;34m(\u001b[0m\u001b[0max\u001b[0m\u001b[0;34m,\u001b[0m \u001b[0;34m*\u001b[0m\u001b[0margs\u001b[0m\u001b[0;34m,\u001b[0m \u001b[0;34m**\u001b[0m\u001b[0mkwargs\u001b[0m\u001b[0;34m)\u001b[0m\u001b[0;34m\u001b[0m\u001b[0;34m\u001b[0m\u001b[0m\n\u001b[0m\u001b[1;32m   1811\u001b[0m \u001b[0;34m\u001b[0m\u001b[0m\n\u001b[1;32m   1812\u001b[0m         inner.__doc__ = _add_data_doc(inner.__doc__,\n",
      "\u001b[0;32m~/.local/lib/python3.6/site-packages/matplotlib/axes/_axes.py\u001b[0m in \u001b[0;36mplot\u001b[0;34m(self, scalex, scaley, *args, **kwargs)\u001b[0m\n\u001b[1;32m   1609\u001b[0m         \u001b[0mkwargs\u001b[0m \u001b[0;34m=\u001b[0m \u001b[0mcbook\u001b[0m\u001b[0;34m.\u001b[0m\u001b[0mnormalize_kwargs\u001b[0m\u001b[0;34m(\u001b[0m\u001b[0mkwargs\u001b[0m\u001b[0;34m,\u001b[0m \u001b[0mmlines\u001b[0m\u001b[0;34m.\u001b[0m\u001b[0mLine2D\u001b[0m\u001b[0;34m.\u001b[0m\u001b[0m_alias_map\u001b[0m\u001b[0;34m)\u001b[0m\u001b[0;34m\u001b[0m\u001b[0;34m\u001b[0m\u001b[0m\n\u001b[1;32m   1610\u001b[0m \u001b[0;34m\u001b[0m\u001b[0m\n\u001b[0;32m-> 1611\u001b[0;31m         \u001b[0;32mfor\u001b[0m \u001b[0mline\u001b[0m \u001b[0;32min\u001b[0m \u001b[0mself\u001b[0m\u001b[0;34m.\u001b[0m\u001b[0m_get_lines\u001b[0m\u001b[0;34m(\u001b[0m\u001b[0;34m*\u001b[0m\u001b[0margs\u001b[0m\u001b[0;34m,\u001b[0m \u001b[0;34m**\u001b[0m\u001b[0mkwargs\u001b[0m\u001b[0;34m)\u001b[0m\u001b[0;34m:\u001b[0m\u001b[0;34m\u001b[0m\u001b[0;34m\u001b[0m\u001b[0m\n\u001b[0m\u001b[1;32m   1612\u001b[0m             \u001b[0mself\u001b[0m\u001b[0;34m.\u001b[0m\u001b[0madd_line\u001b[0m\u001b[0;34m(\u001b[0m\u001b[0mline\u001b[0m\u001b[0;34m)\u001b[0m\u001b[0;34m\u001b[0m\u001b[0;34m\u001b[0m\u001b[0m\n\u001b[1;32m   1613\u001b[0m             \u001b[0mlines\u001b[0m\u001b[0;34m.\u001b[0m\u001b[0mappend\u001b[0m\u001b[0;34m(\u001b[0m\u001b[0mline\u001b[0m\u001b[0;34m)\u001b[0m\u001b[0;34m\u001b[0m\u001b[0;34m\u001b[0m\u001b[0m\n",
      "\u001b[0;32m~/.local/lib/python3.6/site-packages/matplotlib/axes/_base.py\u001b[0m in \u001b[0;36m_grab_next_args\u001b[0;34m(self, *args, **kwargs)\u001b[0m\n\u001b[1;32m    391\u001b[0m                 \u001b[0mthis\u001b[0m \u001b[0;34m+=\u001b[0m \u001b[0margs\u001b[0m\u001b[0;34m[\u001b[0m\u001b[0;36m0\u001b[0m\u001b[0;34m]\u001b[0m\u001b[0;34m,\u001b[0m\u001b[0;34m\u001b[0m\u001b[0;34m\u001b[0m\u001b[0m\n\u001b[1;32m    392\u001b[0m                 \u001b[0margs\u001b[0m \u001b[0;34m=\u001b[0m \u001b[0margs\u001b[0m\u001b[0;34m[\u001b[0m\u001b[0;36m1\u001b[0m\u001b[0;34m:\u001b[0m\u001b[0;34m]\u001b[0m\u001b[0;34m\u001b[0m\u001b[0;34m\u001b[0m\u001b[0m\n\u001b[0;32m--> 393\u001b[0;31m             \u001b[0;32myield\u001b[0m \u001b[0;32mfrom\u001b[0m \u001b[0mself\u001b[0m\u001b[0;34m.\u001b[0m\u001b[0m_plot_args\u001b[0m\u001b[0;34m(\u001b[0m\u001b[0mthis\u001b[0m\u001b[0;34m,\u001b[0m \u001b[0mkwargs\u001b[0m\u001b[0;34m)\u001b[0m\u001b[0;34m\u001b[0m\u001b[0;34m\u001b[0m\u001b[0m\n\u001b[0m\u001b[1;32m    394\u001b[0m \u001b[0;34m\u001b[0m\u001b[0m\n\u001b[1;32m    395\u001b[0m \u001b[0;34m\u001b[0m\u001b[0m\n",
      "\u001b[0;32m~/.local/lib/python3.6/site-packages/matplotlib/axes/_base.py\u001b[0m in \u001b[0;36m_plot_args\u001b[0;34m(self, tup, kwargs)\u001b[0m\n\u001b[1;32m    368\u001b[0m             \u001b[0mx\u001b[0m\u001b[0;34m,\u001b[0m \u001b[0my\u001b[0m \u001b[0;34m=\u001b[0m \u001b[0mindex_of\u001b[0m\u001b[0;34m(\u001b[0m\u001b[0mtup\u001b[0m\u001b[0;34m[\u001b[0m\u001b[0;34m-\u001b[0m\u001b[0;36m1\u001b[0m\u001b[0;34m]\u001b[0m\u001b[0;34m)\u001b[0m\u001b[0;34m\u001b[0m\u001b[0;34m\u001b[0m\u001b[0m\n\u001b[1;32m    369\u001b[0m \u001b[0;34m\u001b[0m\u001b[0m\n\u001b[0;32m--> 370\u001b[0;31m         \u001b[0mx\u001b[0m\u001b[0;34m,\u001b[0m \u001b[0my\u001b[0m \u001b[0;34m=\u001b[0m \u001b[0mself\u001b[0m\u001b[0;34m.\u001b[0m\u001b[0m_xy_from_xy\u001b[0m\u001b[0;34m(\u001b[0m\u001b[0mx\u001b[0m\u001b[0;34m,\u001b[0m \u001b[0my\u001b[0m\u001b[0;34m)\u001b[0m\u001b[0;34m\u001b[0m\u001b[0;34m\u001b[0m\u001b[0m\n\u001b[0m\u001b[1;32m    371\u001b[0m \u001b[0;34m\u001b[0m\u001b[0m\n\u001b[1;32m    372\u001b[0m         \u001b[0;32mif\u001b[0m \u001b[0mself\u001b[0m\u001b[0;34m.\u001b[0m\u001b[0mcommand\u001b[0m \u001b[0;34m==\u001b[0m \u001b[0;34m'plot'\u001b[0m\u001b[0;34m:\u001b[0m\u001b[0;34m\u001b[0m\u001b[0;34m\u001b[0m\u001b[0m\n",
      "\u001b[0;32m~/.local/lib/python3.6/site-packages/matplotlib/axes/_base.py\u001b[0m in \u001b[0;36m_xy_from_xy\u001b[0;34m(self, x, y)\u001b[0m\n\u001b[1;32m    229\u001b[0m         \u001b[0;32mif\u001b[0m \u001b[0mx\u001b[0m\u001b[0;34m.\u001b[0m\u001b[0mshape\u001b[0m\u001b[0;34m[\u001b[0m\u001b[0;36m0\u001b[0m\u001b[0;34m]\u001b[0m \u001b[0;34m!=\u001b[0m \u001b[0my\u001b[0m\u001b[0;34m.\u001b[0m\u001b[0mshape\u001b[0m\u001b[0;34m[\u001b[0m\u001b[0;36m0\u001b[0m\u001b[0;34m]\u001b[0m\u001b[0;34m:\u001b[0m\u001b[0;34m\u001b[0m\u001b[0;34m\u001b[0m\u001b[0m\n\u001b[1;32m    230\u001b[0m             raise ValueError(\"x and y must have same first dimension, but \"\n\u001b[0;32m--> 231\u001b[0;31m                              \"have shapes {} and {}\".format(x.shape, y.shape))\n\u001b[0m\u001b[1;32m    232\u001b[0m         \u001b[0;32mif\u001b[0m \u001b[0mx\u001b[0m\u001b[0;34m.\u001b[0m\u001b[0mndim\u001b[0m \u001b[0;34m>\u001b[0m \u001b[0;36m2\u001b[0m \u001b[0;32mor\u001b[0m \u001b[0my\u001b[0m\u001b[0;34m.\u001b[0m\u001b[0mndim\u001b[0m \u001b[0;34m>\u001b[0m \u001b[0;36m2\u001b[0m\u001b[0;34m:\u001b[0m\u001b[0;34m\u001b[0m\u001b[0;34m\u001b[0m\u001b[0m\n\u001b[1;32m    233\u001b[0m             raise ValueError(\"x and y can be no greater than 2-D, but have \"\n",
      "\u001b[0;31mValueError\u001b[0m: x and y must have same first dimension, but have shapes (68,) and (59,)"
     ]
    },
    {
     "data": {
      "image/png": "[encoded data removed]",
      "text/plain": [
       "<Figure size 1152x720 with 1 Axes>"
      ]
     },
     "metadata": {
      "needs_background": "light"
     },
     "output_type": "display_data"
    }
   ],
   "source": [
    "# Plot the graph\n",
    "x = pd.DatetimeIndex(start = '2013-08-01',end = dt.date.today() , freq = 'MS')\n",
    "yb = dfk['Billed'] + dfa['Billed']\n",
    "yp = dfk['Paid'] + dfa['Paid']\n",
    "\n",
    "years = mdates.YearLocator()   # every year\n",
    "months = mdates.MonthLocator()  # every month\n",
    "yearsFmt = mdates.DateFormatter('%Y') # X axis will show only years\n",
    "\n",
    "fig, ax = plt.subplots(figsize=(16,10)) # Plot size\n",
    "ax.plot(x[:-1],yb, linewidth=1.00, label=\"Billed by TNEB\") # Plot for TNEB Bills\n",
    "ax.plot(x[:-1],yp, linewidth=2.00, label=\"Paid by CMRL\") # Plot for actual payments\n",
    "ax.plot(x[:-1],avg_bill_paid, linewidth=3.00, label=\"\") # Plot for mean value steps representing different stages\n",
    "plt.legend(bbox_to_anchor=(0.05, 0.9, 0.7, .102), loc=3, fontsize=18,\n",
    "           ncol=2, mode=\"expand\", borderaxespad=0.) # Placement of legends\n",
    "ax.set_title('Energy Bill', fontsize=24);\n",
    "\n",
    "ax.grid(color='b', linestyle='-', linewidth=0.2, alpha=0.3, which='both', axis='both')\n",
    "ax.xaxis.set_major_locator(years) # Major ticks \n",
    "ax.xaxis.set_major_formatter(yearsFmt)\n",
    "ax.xaxis.set_minor_locator(months) # Minor ticks"
   ]
  },
  {
   "cell_type": "code",
   "execution_count": null,
   "metadata": {},
   "outputs": [],
   "source": [
    "#fig.savefig(\"energyBill.png\", dpi=200)"
   ]
  },
  {
   "cell_type": "code",
   "execution_count": null,
   "metadata": {},
   "outputs": [],
   "source": [
    "#[len(avg_bill_paid),bk1.shape, bk2.shape, bk3.shape, bk4.shape, bk5.shape]"
   ]
  },
  {
   "cell_type": "code",
   "execution_count": null,
   "metadata": {},
   "outputs": [],
   "source": [
    "pk = dfk[(dfk['Year'] > 2013)] [['Month','Year','PF_penalty','Harmonics_penalty','MD_penalty']]\n",
    "pa = dfa[(dfa['Year'] > 2013)] [['Month','Year','PF_penalty','Harmonics_penalty','MD_penalty']]\n",
    "\n",
    "ppf = pk['PF_penalty'] + pa['PF_penalty'] # Power factor penalty\n",
    "ph = pk['Harmonics_penalty'] + pa['Harmonics_penalty'] # Harmonics Penalty\n",
    "pmd = pk['MD_penalty'] + pa['MD_penalty'] # MD Penalty\n",
    "\n",
    "stg = [] # Array to store stages of operation\n",
    "\n",
    "# Start of period 1.1.2014. Stage 1 started 17 months later\n",
    "stg1 = np.arange(0, 17, 1)\n",
    "for i in stg1:\n",
    "    stg.append(1100000)\n",
    "#Stage 1A started 16 months later\n",
    "stg1a = np.arange(0, 16, 1)\n",
    "for i in stg1a:\n",
    "    stg.append(1500000)\n",
    "#Stage 2A started 7 months later\n",
    "stg2a = np.arange(0, 7, 1)\n",
    "for i in stg2a:\n",
    "    stg.append(1900000)\n",
    "#Stage 2B started 12 months later\n",
    "stg2b = np.arange(0, 12, 1)\n",
    "for i in stg2b:\n",
    "    stg.append(2300000)\n",
    "#Stage 2C prepartions\n",
    "stg2c = np.arange(0, 2, 1) # increase the month interval every month\n",
    "for i in stg2c:\n",
    "    stg.append(2700000)\n",
    "\n",
    "x = pd.DatetimeIndex(start = '2014-01-01',end = dt.date.today() , freq = 'MS')\n",
    "years = mdates.YearLocator()   # every year\n",
    "months = mdates.MonthLocator()  # every month\n",
    "yearsFmt = mdates.DateFormatter('%Y') # X axis will show only years\n",
    "\n",
    "fig, ax = plt.subplots(figsize=(16,10)) # Plot size\n",
    "ax.plot(x[:-1],ppf, linewidth=2.00, label=\"Power Factor\") # Leading PF\n",
    "ax.plot(x[:-1],ph, linewidth=2.00, label=\"Harmonics\") # Harmonics above 8%\n",
    "ax.plot(x[:-1],pmd, linewidth=2.00, label=\"Maximum Demand\") # Exceeded contracted demand\n",
    "ax.plot(x[:-1],stg, linewidth=3.00, label=\"\") # Exceeded contracted demand\n",
    "plt.legend(bbox_to_anchor=(0.05, 0.9, 0.7, .102), loc=3, fontsize=18,\n",
    "           ncol=2, mode=\"expand\", borderaxespad=0.) # Placement of legends\n",
    "ax.set_title('Penalty', fontsize=24);\n",
    "\n",
    "ax.grid(color='b', linestyle='-', linewidth=0.5, alpha=0.3, which='both', axis='both')\n",
    "ax.xaxis.set_major_locator(years) # Major ticks \n",
    "ax.xaxis.set_major_formatter(yearsFmt)\n",
    "ax.xaxis.set_minor_locator(months) # Minor ticks"
   ]
  },
  {
   "cell_type": "code",
   "execution_count": null,
   "metadata": {},
   "outputs": [],
   "source": []
  }
 ],
 "metadata": {
  "kernelspec": {
   "display_name": "Python 3",
   "language": "python",
   "name": "python3"
  },
  "language_info": {
   "codemirror_mode": {
    "name": "ipython",
    "version": 3
   },
   "file_extension": ".py",
   "mimetype": "text/x-python",
   "name": "python",
   "nbconvert_exporter": "python",
   "pygments_lexer": "ipython3",
   "version": "3.6.7"
  }
 },
 "nbformat": 4,
 "nbformat_minor": 2
}
